{
 "cells": [
  {
   "cell_type": "code",
   "execution_count": 38,
   "metadata": {},
   "outputs": [
    {
     "name": "stdout",
     "output_type": "stream",
     "text": [
      "FPS: 0.0001\n",
      "Total Frames: 0\n"
     ]
    }
   ],
   "source": [
    "# Program To Read video \n",
    "# and Extract Frames \n",
    "import cv2 \n",
    "import numpy as np \n",
    "  \n",
    "# Function to extract frames \n",
    "def FrameCapture(path): \n",
    "      \n",
    "    # Path to video file \n",
    "    vidObj = cv2.VideoCapture(path) \n",
    "  \n",
    "    # Used as counter variable \n",
    "    count = 0\n",
    "  \n",
    "    # checks whether frames were extracted \n",
    "    success = 1\n",
    "    \n",
    "    # get duration from fps and frame count \n",
    "    fps = (vidObj.get(cv2.CAP_PROP_FPS)) + 0.0001     # add float to handle division by zero error\n",
    "    print(\"FPS: \" + str(fps))\n",
    "    frame_count = int(vidObj.get(cv2.CAP_PROP_FRAME_COUNT))\n",
    "    print(\"Total Frames: \" + str(frame_count))\n",
    "    \n",
    "    # set the number of images to be returned\n",
    "    imCount = 30\n",
    "  \n",
    "    while success: \n",
    "            \n",
    "        vidObj.set(cv2.CAP_PROP_POS_MSEC,(count*(((frame_count/fps)/imCount)*1000)))\n",
    "        \n",
    "        # vidObj object calls read \n",
    "        # function extract frames \n",
    "        success, image = vidObj.read() \n",
    "  \n",
    "        # Saves the frames with frame-count \n",
    "        cv2.imwrite(\"frame%d.jpg\" % count, image) \n",
    "  \n",
    "        count += 1\n",
    "  \n",
    "# Driver Code \n",
    "if __name__ == '__main__': \n",
    "  \n",
    "    # Calling the function \n",
    "    FrameCapture(\"yourVideo.mp4\") "
   ]
  },
  {
   "cell_type": "code",
   "execution_count": 40,
   "metadata": {},
   "outputs": [
    {
     "name": "stdout",
     "output_type": "stream",
     "text": [
      "FPS: 23.976123976023977\n",
      "Total Frames: 128739\n"
     ]
    }
   ],
   "source": [
    "FrameCapture(\"Only.God.Forgives.2013.720p.mp4\")"
   ]
  },
  {
   "cell_type": "code",
   "execution_count": null,
   "metadata": {},
   "outputs": [],
   "source": []
  }
 ],
 "metadata": {
  "kernelspec": {
   "display_name": "Python 3",
   "language": "python",
   "name": "python3"
  },
  "language_info": {
   "codemirror_mode": {
    "name": "ipython",
    "version": 3
   },
   "file_extension": ".py",
   "mimetype": "text/x-python",
   "name": "python",
   "nbconvert_exporter": "python",
   "pygments_lexer": "ipython3",
   "version": "3.7.7"
  }
 },
 "nbformat": 4,
 "nbformat_minor": 4
}
